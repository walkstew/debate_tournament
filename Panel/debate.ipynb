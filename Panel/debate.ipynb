{
 "cells": [
  {
   "cell_type": "code",
   "execution_count": 1,
   "metadata": {},
   "outputs": [],
   "source": [
    "import pandas as pd\n",
    "import numpy as np\n",
    "import math\n",
    "import random"
   ]
  },
  {
   "cell_type": "code",
   "execution_count": 2,
   "metadata": {},
   "outputs": [],
   "source": [
    "raw_panel = pd.read_csv(\"panel.csv\")\n",
    "num_teams = len(raw_panel)\n",
    "raw_panel = raw_panel.to_dict('index')\n",
    "panel_records = {i : [0, 0, 0] for i in range(num_teams)}\n"
   ]
  },
  {
   "cell_type": "code",
   "execution_count": 3,
   "metadata": {},
   "outputs": [],
   "source": [
    "rooms = [\"6th Grade\", \"5-8 Science\", \"4th Grade\", \"5th Grade\", \"Library\", \"7th Grade\", \"8th Grade\"]\n",
    "def process_ballot_info(winner, loser, winner_speaks, loser_speaks):\n",
    "  previous = panel_records\n",
    "  panel_records[winner][0] += 1\n",
    "  panel_records[loser][1] += 1\n",
    "  panel_records[winner][2] += winner_speaks\n",
    "  panel_records[loser][2] += loser_speaks\n",
    "  return previous"
   ]
  },
  {
   "cell_type": "code",
   "execution_count": 4,
   "metadata": {},
   "outputs": [],
   "source": [
    "blocked = {}\n",
    "codes = {}\n",
    "\n",
    "for key in raw_panel:\n",
    "  name = \"\"\n",
    "  p_1 = raw_panel[key]['Partner 1'].split()\n",
    "  p_2 = raw_panel[key]['Partner 2'].split()\n",
    "  name += p_1[-1] + \"-\" + p_2[-1]\n",
    "  p_3 = raw_panel[key]['Partner 3']\n",
    "  if isinstance(p_3, str):\n",
    "    p_3 = p_3.split()\n",
    "    name += \"-\" + p_3[-1]\n",
    "  codes[key] = name\n",
    "\n",
    "  blocked[key] = set()\n",
    "  school = raw_panel[key]['School']\n",
    "  for other_key in raw_panel:\n",
    "    if key == other_key: continue\n",
    "    if school == raw_panel[other_key]['School']:\n",
    "      blocked[key].add(other_key)\n",
    "\n",
    "round_1 = []\n",
    "neg = {i+7 for i in range(int(num_teams/2))}\n",
    "aff = [i for i in range(int(num_teams/2))]\n",
    "random.shuffle(aff)\n",
    "room_index = 0\n",
    "for aff_team in aff:\n",
    "  for neg_team in neg:\n",
    "    if neg_team not in blocked[aff_team]:\n",
    "      round_1.append(rooms[room_index] + \": \" + codes[aff_team] + \" (AFF) versus \" + codes[neg_team] + \" (NEG)\")\n",
    "      blocked[aff_team].add(neg_team)\n",
    "      blocked[neg_team].add(aff_team)\n",
    "      neg.remove(neg_team)\n",
    "      break\n",
    "  room_index +=1\n",
    "\n",
    "round_2 = []\n",
    "neg = {i for i in range(int(num_teams/2))}\n",
    "aff = [i + 7 for i in range(int(num_teams/2))]\n",
    "random.shuffle(aff)\n",
    "room_index = 0\n",
    "for aff_team in aff:\n",
    "  for neg_team in neg:\n",
    "    if neg_team not in blocked[aff_team]:\n",
    "      round_2.append(rooms[room_index] + \": \" + codes[aff_team] + \" (AFF) versus \" + codes[neg_team] + \" (NEG)\")\n",
    "      blocked[aff_team].add(neg_team)\n",
    "      blocked[neg_team].add(aff_team)\n",
    "      neg.remove(neg_team)\n",
    "      break\n",
    "  room_index +=1\n",
    "\n",
    "round_3 = []\n",
    "neg = {i+7 for i in range(int(num_teams/2))}\n",
    "aff = [i for i in range(int(num_teams/2))]\n",
    "random.shuffle(aff)\n",
    "room_index = 0\n",
    "for aff_team in aff:\n",
    "  for neg_team in neg:\n",
    "    if neg_team not in blocked[aff_team]:\n",
    "      round_3.append(rooms[room_index] + \": \" + codes[aff_team] + \" (AFF) versus \" + codes[neg_team] + \" (NEG)\")\n",
    "      blocked[aff_team].add(neg_team)\n",
    "      blocked[neg_team].add(aff_team)\n",
    "      neg.remove(neg_team)\n",
    "      break\n",
    "  room_index +=1\n",
    "\n",
    "with open('prelims.txt', 'w') as f:\n",
    "  # round 1\n",
    "  f.write('Panel Debate\\n\\nRound 1\\n\\nStart Time: 8:50 AM\\n\\n\\n')\n",
    "  for elem in round_1:\n",
    "    f.write(elem+'\\n\\n')\n",
    "  f.write('\\nPanel Debate Round 2\\nStart Time: 10:40 AM\\n\\n')\n",
    "  for elem in round_2:\n",
    "    f.write(elem+'\\n\\n')\n",
    "  f.write('\\nPanel Debate Round 3\\nStart Time: 11:40 AM\\n\\n')\n",
    "  for elem in round_3:\n",
    "    f.write(elem+'\\n\\n')\n",
    "  f.close()\n",
    "with open('codes.txt', 'w') as f:\n",
    "  for team in codes:\n",
    "    f.write(str(team) + \" <——— \" + codes[team] + '\\n\\n')\n",
    "  f.close()"
   ]
  },
  {
   "attachments": {},
   "cell_type": "markdown",
   "metadata": {},
   "source": [
    "BELOW THIS IS FOR INGESTING BALLOTS"
   ]
  },
  {
   "cell_type": "code",
   "execution_count": 5,
   "metadata": {},
   "outputs": [],
   "source": [
    "# Display current situation of ballots in clear form\n",
    "def get_current_sich():\n",
    "  combo = {}\n",
    "  for key in panel_records:\n",
    "    combo[key] = [codes[key]] + panel_records[key]\n",
    "  df = pd.DataFrame.from_dict(combo, orient='index', columns=[\"Name\",\"Wins\", \"Losses\", \"Speaks\"])\n",
    "  print(df)"
   ]
  },
  {
   "cell_type": "code",
   "execution_count": 6,
   "metadata": {},
   "outputs": [],
   "source": [
    "def ingest_ballot():\n",
    "  print(\"Index of Team that won the round:\")\n",
    "  winner = int(input())\n",
    "  print(\"Winning Team Speaker Points:\")\n",
    "  winner_speaks = int(input())\n",
    "  print(\"Index of Team that lost the round:\")\n",
    "  loser = int(input())\n",
    "  print(\"Losing Team Speaker Points:\")\n",
    "  loser_speaks = int(input())\n",
    "  return process_ballot_info(winner, loser, winner_speaks, loser_speaks)\n"
   ]
  },
  {
   "cell_type": "code",
   "execution_count": 8,
   "metadata": {},
   "outputs": [
    {
     "name": "stdout",
     "output_type": "stream",
     "text": [
      "                      Name  Wins  Losses  Speaks\n",
      "0           Cassie-Eugenia     0       0       0\n",
      "1              Anna-Lucile     0       0       0\n",
      "2        Emma-Lucille-Cora     0       0       0\n",
      "3        Melissa-Selma-Ida     0       0       0\n",
      "4       Lyda-Rosalie-Laura     0       0       0\n",
      "5          Margaret-Kittie     0       0       0\n",
      "6                Ida-Lilla     0       0       0\n",
      "7              Alice-Angie     0       0       0\n",
      "8               Bertha-Iva     0       0       0\n",
      "9   Mary-Georgiana-Bridget     0       0       0\n",
      "10        Annie-Lila-Lilla     0       0       0\n",
      "11     Emma-Regina-Malinda     0       0       0\n",
      "12             Ella-Evelyn     0       0       0\n",
      "13     Florence-Wilhelmina     0       0       0\n"
     ]
    }
   ],
   "source": [
    "previous = ingest_ballot()\n",
    "get_current_sich()"
   ]
  },
  {
   "cell_type": "code",
   "execution_count": 136,
   "metadata": {},
   "outputs": [
    {
     "name": "stdout",
     "output_type": "stream",
     "text": [
      "None\n"
     ]
    }
   ],
   "source": [
    "# Only run if error in input!\n",
    "\n",
    "# panel_records = previous\n",
    "# This is hard coded for testing\n",
    "# panel_records = {0: [1, 2, 5], 1: [1, 2, 3], 2: [2, 1, 10], 3: [2, 1, 11], 4: [3, 0, 20], 5: [3, 0, 22], 6: [0, 3, 1], 7: [2, 1, 11], 8: [1, 2, 20], 9: [2, 1, 8], 10: [2, 1, 15], 11: [0, 3, 1], 12: [2, 1, 18], 13: [1, 2, 3]}"
   ]
  },
  {
   "attachments": {},
   "cell_type": "markdown",
   "metadata": {},
   "source": [
    "BELOW THIS IS FOR QUARTERFINALS"
   ]
  },
  {
   "cell_type": "code",
   "execution_count": 43,
   "metadata": {},
   "outputs": [],
   "source": [
    "# calculate quarterfinals\n",
    "quarters_rooms = [\"5th Grade\", \"Library\", \"7th Grade\", \"8th Grade\"]\n",
    "\n",
    "three_win = []\n",
    "two_win = []\n",
    "one_win = []\n",
    "for team in panel_records:\n",
    "  wins = panel_records[team][0]\n",
    "  speaks = panel_records[team][2]\n",
    "  if wins == 3:\n",
    "    three_win.append((team, speaks))\n",
    "  elif wins == 2:\n",
    "    two_win.append((team, speaks))\n",
    "  elif wins == 1:\n",
    "    one_win.append((team, speaks))\n",
    "three_win = sorted(three_win, key=lambda x: x[1], reverse=True)\n",
    "two_win = sorted(two_win, key=lambda x: x[1], reverse=True)\n",
    "one_win = sorted(one_win, key=lambda x: x[1], reverse=True)\n",
    "temp = three_win + two_win + one_win\n",
    "temp = temp[:8]\n",
    "seeds = []\n",
    "for i in range(len(temp)):\n",
    "  seeds.append(temp[i][0])\n",
    "quarters = []\n",
    "room_index = 0\n",
    "for i in range(int(len(seeds)/2)):\n",
    "  quarters.append(quarters_rooms[room_index] + \": \" + codes[seeds[i]] + \" versus \" + codes[seeds[-i-1]] + \" (FLIP FOR SIDES)\")\n",
    "  room_index +=1\n",
    "\n",
    "with open('quarters.txt', 'w') as f:\n",
    "  \n",
    "  f.write('Panel Debate\\n\\nQuarterfinals\\n\\nStart Time: 2:00 PM\\n\\n\\n')\n",
    "  for elem in quarters:\n",
    "    f.write(elem+'\\n\\n')\n",
    "  f.close()\n",
    "\n"
   ]
  }
 ],
 "metadata": {
  "kernelspec": {
   "display_name": "Python 3.10.7 64-bit",
   "language": "python",
   "name": "python3"
  },
  "language_info": {
   "codemirror_mode": {
    "name": "ipython",
    "version": 3
   },
   "file_extension": ".py",
   "mimetype": "text/x-python",
   "name": "python",
   "nbconvert_exporter": "python",
   "pygments_lexer": "ipython3",
   "version": "3.10.7"
  },
  "orig_nbformat": 4,
  "vscode": {
   "interpreter": {
    "hash": "aee8b7b246df8f9039afb4144a1f6fd8d2ca17a180786b69acc140d282b71a49"
   }
  }
 },
 "nbformat": 4,
 "nbformat_minor": 2
}
