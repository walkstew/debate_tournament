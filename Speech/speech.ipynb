{
 "cells": [
  {
   "cell_type": "code",
   "execution_count": 1,
   "metadata": {},
   "outputs": [],
   "source": [
    "import pandas as pd\n",
    "import numpy as np\n",
    "import math\n",
    "import random\n",
    "import docx\n",
    "from docx.shared import Cm\n",
    "\n",
    "pd.set_option('display.max_rows', 500)"
   ]
  },
  {
   "cell_type": "code",
   "execution_count": 2,
   "metadata": {},
   "outputs": [],
   "source": [
    "vf_rooms = ['Pre-K', 'Kindergarten', 'Math Lab', 'Math', '3rd Grade', '2nd Grade', '1st Grade']\n",
    "ep_rooms = ['Art', 'Pri. Sci & Spanish', '6th Grade', '5-8 Science', '4th Grade']\n",
    "cr_rooms = ['Pre-K', 'Kindergarten', 'Math Lab', 'Math', '3rd Grade', '2nd Grade', '1st Grade', 'Art']\n",
    "oo_rooms = ['5th Grade', 'Library', '7th Grade', '8th Grade']"
   ]
  },
  {
   "cell_type": "code",
   "execution_count": 3,
   "metadata": {},
   "outputs": [],
   "source": [
    "raw_speech = pd.read_csv(\"roster.csv\")\n",
    "names = list(raw_speech['Name'])\n",
    "cold_reading_raw = list(raw_speech['Cold Reading'])\n",
    "panel_raw = list(raw_speech['Panel Debate'])\n",
    "vf_raw = list(raw_speech['Volte Face'])\n",
    "ep_raw = list(raw_speech['Elevator Pitch'])\n",
    "oo_raw = list(raw_speech['Original Oratory'])\n",
    "cr_codes = {}\n",
    "cr = []\n",
    "vf_codes = {}\n",
    "vf = []\n",
    "ep_codes = {}\n",
    "ep = []\n",
    "oo_codes = {}\n",
    "oo = []\n",
    "for i in range(len(names)):\n",
    "  if isinstance(cold_reading_raw[i], str):\n",
    "    code = i + 1500\n",
    "    if isinstance(panel_raw[i], str):\n",
    "      code -= 500\n",
    "    cr_codes[code] = names[i]\n",
    "    cr.append(code)\n",
    "  if isinstance(vf_raw[i], str):\n",
    "    code = i + 2500\n",
    "    if isinstance(oo_raw[i], str):\n",
    "      code -= 500\n",
    "    vf_codes[code] = names[i]\n",
    "    vf.append(code)\n",
    "  if isinstance(ep_raw[i], str):\n",
    "    code = i + 3500\n",
    "    if isinstance(oo_raw[i], str):\n",
    "      code -= 500\n",
    "    ep_codes[code] = names[i]\n",
    "    ep.append(code)\n",
    "  if isinstance(oo_raw[i], str):\n",
    "    code = i + 4000\n",
    "    if isinstance(ep_raw[i], str) and isinstance(vf_raw[i], str):\n",
    "      code += 200\n",
    "    if isinstance(ep_raw[i], str) or isinstance(vf_raw[i], str):\n",
    "      code += 200\n",
    "    oo_codes[code] = names[i]\n",
    "    oo.append(code)"
   ]
  },
  {
   "cell_type": "code",
   "execution_count": 4,
   "metadata": {},
   "outputs": [],
   "source": [
    "vf_records = {code : [0, 0] for code in vf}\n",
    "ep_records = {code : [0, 0] for code in ep}\n",
    "cr_records = {code : [0, 0] for code in cr}\n",
    "oo_records = {code : [0, 0] for code in oo}"
   ]
  },
  {
   "cell_type": "code",
   "execution_count": 5,
   "metadata": {},
   "outputs": [],
   "source": [
    "def create_round(entries, rooms):\n",
    "  temp = [[] for _ in range(len(rooms))]\n",
    "  random.shuffle(entries)\n",
    "  for i in range(len(entries)):\n",
    "    index = i % len(rooms)\n",
    "    temp[index].append(entries[i])\n",
    "  round = []\n",
    "  for room in temp:\n",
    "    round.append(sorted(room))\n",
    "  return round"
   ]
  },
  {
   "cell_type": "code",
   "execution_count": 8,
   "metadata": {},
   "outputs": [],
   "source": [
    "vf_round_1 = create_round(vf, vf_rooms)\n",
    "ep_round_1 = create_round(ep, ep_rooms)\n",
    "cr_round_1 = create_round(cr, cr_rooms)\n",
    "oo_round_1 = create_round(oo, oo_rooms)\n",
    "\n",
    "vf_round_2 = create_round(vf, vf_rooms)\n",
    "ep_round_2 = create_round(ep, ep_rooms)\n",
    "cr_round_2 = create_round(cr, cr_rooms)\n",
    "oo_round_2 = create_round(oo, oo_rooms)"
   ]
  },
  {
   "cell_type": "code",
   "execution_count": 6,
   "metadata": {},
   "outputs": [],
   "source": [
    "def write_master(template, pairings, code, rooms, event, round):\n",
    "  for i in range(len(rooms)):\n",
    "    save_str = event + str(round) + rooms[i] + \"Master.docx\"\n",
    "    temp = docx.Document(template)\n",
    "    temp.paragraphs[2].text +=  str(round)\n",
    "    temp.paragraphs[4].text += rooms[i]\n",
    "    table = temp.tables[0]\n",
    "    for j in range(len(pairings[i])):\n",
    "      id = pairings[i][j]\n",
    "      table.cell(j+1, 0).text = str(code[id]) + \" - \" + str(id)\n",
    "    temp.save(save_str)"
   ]
  },
  {
   "cell_type": "code",
   "execution_count": 12,
   "metadata": {},
   "outputs": [],
   "source": [
    "write_master(\"vf_mb.docx\", vf_round_1, vf_codes, vf_rooms, \"VF\", 1)\n",
    "write_master(\"ep_mb.docx\", ep_round_1, ep_codes, ep_rooms, \"EP\", 1)\n",
    "write_master(\"cr_mb.docx\", cr_round_1, cr_codes, cr_rooms, \"CR\", 1)\n",
    "write_master(\"oo_mb.docx\", oo_round_1, oo_codes, oo_rooms, \"OO\", 1)"
   ]
  },
  {
   "cell_type": "code",
   "execution_count": 23,
   "metadata": {},
   "outputs": [],
   "source": [
    "write_master(\"vf_mb.docx\", vf_round_2, vf_codes, vf_rooms, \"VF\", 2)\n",
    "write_master(\"ep_mb.docx\", ep_round_2, ep_codes, ep_rooms, \"EP\", 2)\n",
    "write_master(\"cr_mb.docx\", cr_round_2, cr_codes, cr_rooms, \"CR\", 2)\n",
    "write_master(\"oo_mb.docx\", oo_round_2, oo_codes, oo_rooms, \"OO\", 2)"
   ]
  },
  {
   "cell_type": "code",
   "execution_count": 7,
   "metadata": {},
   "outputs": [],
   "source": [
    "def create_pairings(pairings, code, rooms, event, round, time):\n",
    "  with open(event + 'Round' + str(round) + '.txt', 'w') as f:\n",
    "    f.write(event + ' Round ' + str(round) + '\\nStart Time: ' + time + '\\nSpeeches in order that names are listed\\n\\n\\n')\n",
    "    for i in range(len(rooms)):\n",
    "      f.write(\"Room: \"+ str(rooms[i]) + '\\n\\n')\n",
    "      for num in pairings[i]:\n",
    "        f.write(str(code[num]) + '\\n')\n",
    "      f.write('\\n')"
   ]
  },
  {
   "cell_type": "code",
   "execution_count": 22,
   "metadata": {},
   "outputs": [],
   "source": [
    "create_pairings(vf_round_1, vf_codes, vf_rooms, \"Volte Face\", 1, '9:50 AM')\n",
    "create_pairings(ep_round_1, ep_codes, ep_rooms, \"Elevator Pitch\", 1, '9:50 AM')\n",
    "create_pairings(cr_round_1, cr_codes, cr_rooms, \"Cold Reading\", 1, '8:50 AM')\n",
    "create_pairings(oo_round_1, oo_codes, oo_rooms, \"Original Oratory\", 1, '9:50 AM')\n",
    "\n",
    "create_pairings(vf_round_2, vf_codes, vf_rooms, \"Volte Face\", 2, '1:00 PM')\n",
    "create_pairings(ep_round_2, ep_codes, ep_rooms, \"Elevator Pitch\", 2, '1:00 PM')\n",
    "create_pairings(cr_round_2, cr_codes, cr_rooms, \"Cold Reading\", 2, '10:40 AM')\n",
    "create_pairings(oo_round_2, oo_codes, oo_rooms, \"Original Oratory\", 2, '1:00 PM')"
   ]
  },
  {
   "cell_type": "code",
   "execution_count": 36,
   "metadata": {},
   "outputs": [],
   "source": [
    "def ingest_ballot():\n",
    "  print(\"Input Event (vf, ep, cr, oo)\")\n",
    "  event = input()\n",
    "  while event not in {'vf', 'ep', 'cr', 'oo'}:\n",
    "    print('Wrong event input')\n",
    "    event = input()\n",
    "  print(\"Input codes, separated by spaces, in order from first to last\")\n",
    "  codes_raw = input()\n",
    "  codes = list(codes_raw.split(\" \"))\n",
    "  for i in range(len(codes)): codes[i] = int(codes[i])\n",
    "  for i in range(len(codes)):\n",
    "    place = i+1\n",
    "    if event == 'vf':\n",
    "      vf_records[codes[i]][0] += place\n",
    "      vf_records[codes[i]][1] += 1\n",
    "    elif event == 'ep':\n",
    "      ep_records[codes[i]][0] += place\n",
    "      ep_records[codes[i]][1] += 1\n",
    "    elif event == 'cr':\n",
    "      cr_records[codes[i]][0] += place\n",
    "      cr_records[codes[i]][1] += 1\n",
    "    elif event == 'oo':\n",
    "      oo_records[codes[i]][0] += place\n",
    "      oo_records[codes[i]][1] += 1\n",
    "    else:\n",
    "      print(\"Error\")"
   ]
  },
  {
   "cell_type": "code",
   "execution_count": 8,
   "metadata": {},
   "outputs": [],
   "source": [
    "def get_current_sich():\n",
    "  combo = {}\n",
    "  for key in vf_records:\n",
    "    combo[key] = [vf_codes[key]] + vf_records[key]\n",
    "  df = pd.DataFrame.from_dict(combo, orient='index', columns=[\"Name\", \"Places Sum\", \"Ballots In\"])\n",
    "  df['Rank'] = df['Places Sum'].rank()\n",
    "  print(df)\n",
    "  combo = {}\n",
    "  for key in ep_records:\n",
    "    combo[key] = [ep_codes[key]] + ep_records[key]\n",
    "  df1 = pd.DataFrame.from_dict(combo, orient='index', columns=[\"Name\", \"Places Sum\", \"Ballots In\"])\n",
    "  df1['Rank'] = df1['Places Sum'].rank()\n",
    "  print(df1)\n",
    "  combo = {}\n",
    "  for key in cr_records:\n",
    "    combo[key] = [cr_codes[key]] + cr_records[key]\n",
    "  df2 = pd.DataFrame.from_dict(combo, orient='index', columns=[\"Name\", \"Places Sum\", \"Ballots In\"])\n",
    "  df2['Rank'] = df2['Places Sum'].rank()\n",
    "  print(df2)\n",
    "  combo = {}\n",
    "  for key in oo_records:\n",
    "    combo[key] = [oo_codes[key]] + oo_records[key]\n",
    "  df3 = pd.DataFrame.from_dict(combo, orient='index', columns=[\"Name\", \"Places Sum\", \"Ballots In\"])\n",
    "  df3['Rank'] = df3['Places Sum'].rank()\n",
    "  print(df3)"
   ]
  },
  {
   "cell_type": "code",
   "execution_count": 9,
   "metadata": {},
   "outputs": [
    {
     "name": "stdout",
     "output_type": "stream",
     "text": [
      "                           Name  Places Sum  Ballots In  Rank\n",
      "2000          Mary Lydia Cassie           0           0  35.0\n",
      "2001                Anna Elsie            0           0  35.0\n",
      "2503    Elizabeth Susan Melissa           0           0  35.0\n",
      "2004         Minnie Mollie Lyda           0           0  35.0\n",
      "2005             Margaret Alma            0           0  35.0\n",
      "2006                 Ida Addie            0           0  35.0\n",
      "2507             Alice Georgia            0           0  35.0\n",
      "2508              Bertha Eliza            0           0  35.0\n",
      "2009            Sarah Lulu Mary           0           0  35.0\n",
      "2510              Annie Nannie            0           0  35.0\n",
      "2512               Ella Amanda            0           0  35.0\n",
      "2513            Florence Belle            0           0  35.0\n",
      "2516                Laura Ruth            0           0  35.0\n",
      "2517              Nellie Viola            0           0  35.0\n",
      "2019        Carrie Amelia Annie           0           0  35.0\n",
      "2520              Maude Hannah            0           0  35.0\n",
      "2521            Mabel Jane Ella           0           0  35.0\n",
      "2025          Julia Irene Laura           0           0  35.0\n",
      "2526            Hattie Kathryn            0           0  35.0\n",
      "2027         Edith Esther Grace           0           0  35.0\n",
      "2028             Mattie Willie            0           0  35.0\n",
      "2530           Catherine Ollie            0           0  35.0\n",
      "2531         Lillian Amy Bessie           0           0  35.0\n",
      "2532                Ada Rachel            0           0  35.0\n",
      "2533       Lillie Sara Gertrude           0           0  35.0\n",
      "2535           Eugenia Theresa            0           0  35.0\n",
      "2538           Mabelle Pauline            0           0  35.0\n",
      "2541               Meta Sophia            0           0  35.0\n",
      "2544  Georgiana Mildred Eugenia           0           0  35.0\n",
      "2546      Regina Beulah Lucille           0           0  35.0\n",
      "2547              Selma Callie            0           0  35.0\n",
      "2548     Wilhelmina Lou Rosalie           0           0  35.0\n",
      "2549       Bridget Delia Kittie           0           0  35.0\n",
      "2550             Lilla Eleanor            0           0  35.0\n",
      "2552                  Vina Iva            0           0  35.0\n",
      "2553     Freda Louisa Georgiana           0           0  35.0\n",
      "2054          Gertie Maria Lila           0           0  35.0\n",
      "2555     Jeannette Mayme Regina           0           0  35.0\n",
      "2556            Louella Evelyn            0           0  35.0\n",
      "2059         Cassie Betty Lilla           0           0  35.0\n",
      "2561                Ivy Bettie            0           0  35.0\n",
      "2567       Margie Allie Roberta           0           0  35.0\n",
      "2568          Lydia Mary Cassie           0           0  35.0\n",
      "2569                Elsie Anna            0           0  35.0\n",
      "2570                 Kate Emma            0           0  35.0\n",
      "2571    Susan Elizabeth Melissa           0           0  35.0\n",
      "2573             Alma Margaret            0           0  35.0\n",
      "2574                 Addie Ida            0           0  35.0\n",
      "2576              Eliza Bertha            0           0  35.0\n",
      "2577            Lulu Sarah Mary           0           0  35.0\n",
      "2578              Nannie Annie            0           0  35.0\n",
      "2579          Lottie Clara Emma           0           0  35.0\n",
      "2581            Belle Florence            0           0  35.0\n",
      "2583         Rebecca Martha Ida           0           0  35.0\n",
      "2584                Ruth Laura            0           0  35.0\n",
      "2585              Viola Nellie            0           0  35.0\n",
      "2586               Olive Grace            0           0  35.0\n",
      "2587        Amelia Carrie Annie           0           0  35.0\n",
      "2588              Hannah Maude            0           0  35.0\n",
      "2589            Jane Mabel Ella           0           0  35.0\n",
      "2590           Virginia Bessie            0           0  35.0\n",
      "2591              Emily Jennie            0           0  35.0\n",
      "2593          Irene Julia Laura           0           0  35.0\n",
      "2594            Kathryn Hattie            0           0  35.0\n",
      "2595         Esther Edith Grace           0           0  35.0\n",
      "2597            Henrietta Rose            0           0  35.0\n",
      "2598           Ollie Catherine            0           0  35.0\n",
      "2599         Amy Lillian Bessie           0           0  35.0\n",
      "2600                Rachel Ada            0           0  35.0\n",
      "                           Name  Places Sum  Ballots In  Rank\n",
      "3502                 Emma Kate            0           0  22.0\n",
      "3503    Elizabeth Susan Melissa           0           0  22.0\n",
      "3507             Alice Georgia            0           0  22.0\n",
      "3511          Clara Lottie Emma           0           0  22.0\n",
      "3512               Ella Amanda            0           0  22.0\n",
      "3018               Grace Olive            0           0  22.0\n",
      "3520              Maude Hannah            0           0  22.0\n",
      "3524          Gertrude Matilda            0           0  22.0\n",
      "3526            Hattie Kathryn            0           0  22.0\n",
      "3029            Rose Henrietta            0           0  22.0\n",
      "3530           Catherine Ollie            0           0  22.0\n",
      "3034            Virgie Estella            0           0  22.0\n",
      "3535           Eugenia Theresa            0           0  22.0\n",
      "3037         Lucille Ora Mattie           0           0  22.0\n",
      "3540               Kittie Lola            0           0  22.0\n",
      "3043               Dessie Anne            0           0  22.0\n",
      "3544  Georgiana Mildred Eugenia           0           0  22.0\n",
      "3045            Lila Ann Lucile           0           0  22.0\n",
      "3546      Regina Beulah Lucille           0           0  22.0\n",
      "3548     Wilhelmina Lou Rosalie           0           0  22.0\n",
      "3058       Roberta Nina Bridget           0           0  22.0\n",
      "3560     Corinne Marion Malinda           0           0  22.0\n",
      "3561                Ivy Bettie            0           0  22.0\n",
      "3062      Melissa Dorothy Freda           0           0  22.0\n",
      "3563         Lyda Luella Gertie           0           0  22.0\n",
      "3564                Naomi Inez            0           0  22.0\n",
      "3565                Norma Lela            0           0  22.0\n",
      "3566                Bell Rosie            0           0  22.0\n",
      "3567       Margie Allie Roberta           0           0  22.0\n",
      "3569                Elsie Anna            0           0  22.0\n",
      "3570                 Kate Emma            0           0  22.0\n",
      "3075             Georgia Alice            0           0  22.0\n",
      "3577            Lulu Sarah Mary           0           0  22.0\n",
      "3579          Lottie Clara Emma           0           0  22.0\n",
      "3580               Amanda Ella            0           0  22.0\n",
      "3581            Belle Florence            0           0  22.0\n",
      "3582            Charlotte Cora            0           0  22.0\n",
      "3583         Rebecca Martha Ida           0           0  22.0\n",
      "3585              Viola Nellie            0           0  22.0\n",
      "3092          Matilda Gertrude            0           0  22.0\n",
      "3596             Willie Mattie            0           0  22.0\n",
      "3597            Henrietta Rose            0           0  22.0\n",
      "3601       Sara Lillie Gertrude           0           0  22.0\n",
      "                           Name  Places Sum  Ballots In  Rank\n",
      "1500          Mary Lydia Cassie           0           0  36.5\n",
      "1002                 Emma Kate            0           0  36.5\n",
      "1504         Minnie Mollie Lyda           0           0  36.5\n",
      "1505             Margaret Alma            0           0  36.5\n",
      "1506                 Ida Addie            0           0  36.5\n",
      "1507             Alice Georgia            0           0  36.5\n",
      "1508              Bertha Eliza            0           0  36.5\n",
      "1509            Sarah Lulu Mary           0           0  36.5\n",
      "1510              Annie Nannie            0           0  36.5\n",
      "1511          Clara Lottie Emma           0           0  36.5\n",
      "1512               Ella Amanda            0           0  36.5\n",
      "1013            Florence Belle            0           0  36.5\n",
      "1014            Cora Charlotte            0           0  36.5\n",
      "1015         Martha Rebecca Ida           0           0  36.5\n",
      "1016                Laura Ruth            0           0  36.5\n",
      "1017              Nellie Viola            0           0  36.5\n",
      "1519        Carrie Amelia Annie           0           0  36.5\n",
      "1521            Mabel Jane Ella           0           0  36.5\n",
      "1522           Bessie Virginia            0           0  36.5\n",
      "1023              Jennie Emily            0           0  36.5\n",
      "1524          Gertrude Matilda            0           0  36.5\n",
      "1525          Julia Irene Laura           0           0  36.5\n",
      "1527         Edith Esther Grace           0           0  36.5\n",
      "1528             Mattie Willie            0           0  36.5\n",
      "1529            Rose Henrietta            0           0  36.5\n",
      "1032                Ada Rachel            0           0  36.5\n",
      "1535           Eugenia Theresa            0           0  36.5\n",
      "1536            Lucile Augusta            0           0  36.5\n",
      "1538           Mabelle Pauline            0           0  36.5\n",
      "1539    Rosalie Josie Catherine           0           0  36.5\n",
      "1540               Kittie Lola            0           0  36.5\n",
      "1541               Meta Sophia            0           0  36.5\n",
      "1542               Angie Leona            0           0  36.5\n",
      "1543               Dessie Anne            0           0  36.5\n",
      "1544  Georgiana Mildred Eugenia           0           0  36.5\n",
      "1545            Lila Ann Lucile           0           0  36.5\n",
      "1547              Selma Callie            0           0  36.5\n",
      "1549       Bridget Delia Kittie           0           0  36.5\n",
      "1550             Lilla Eleanor            0           0  36.5\n",
      "1051      Malinda Barbara Angie           0           0  36.5\n",
      "1552                  Vina Iva            0           0  36.5\n",
      "1053     Freda Louisa Georgiana           0           0  36.5\n",
      "1055     Jeannette Mayme Regina           0           0  36.5\n",
      "1056            Louella Evelyn            0           0  36.5\n",
      "1557   Mandy Estelle Wilhelmina           0           0  36.5\n",
      "1559         Cassie Betty Lilla           0           0  36.5\n",
      "1560     Corinne Marion Malinda           0           0  36.5\n",
      "1562      Melissa Dorothy Freda           0           0  36.5\n",
      "1563         Lyda Luella Gertie           0           0  36.5\n",
      "1564                Naomi Inez            0           0  36.5\n",
      "1565                Norma Lela            0           0  36.5\n",
      "1566                Bell Rosie            0           0  36.5\n",
      "1567       Margie Allie Roberta           0           0  36.5\n",
      "1568          Lydia Mary Cassie           0           0  36.5\n",
      "1569                Elsie Anna            0           0  36.5\n",
      "1571    Susan Elizabeth Melissa           0           0  36.5\n",
      "1572         Mollie Minnie Lyda           0           0  36.5\n",
      "1574                 Addie Ida            0           0  36.5\n",
      "1076              Eliza Bertha            0           0  36.5\n",
      "1578              Nannie Annie            0           0  36.5\n",
      "1579          Lottie Clara Emma           0           0  36.5\n",
      "1080               Amanda Ella            0           0  36.5\n",
      "1581            Belle Florence            0           0  36.5\n",
      "1582            Charlotte Cora            0           0  36.5\n",
      "1583         Rebecca Martha Ida           0           0  36.5\n",
      "1084                Ruth Laura            0           0  36.5\n",
      "1089            Jane Mabel Ella           0           0  36.5\n",
      "1091              Emily Jennie            0           0  36.5\n",
      "1592          Matilda Gertrude            0           0  36.5\n",
      "1096             Willie Mattie            0           0  36.5\n",
      "1600                Rachel Ada            0           0  36.5\n",
      "1601       Sara Lillie Gertrude           0           0  36.5\n",
      "                          Name  Places Sum  Ballots In  Rank\n",
      "4200         Mary Lydia Cassie           0           0  15.0\n",
      "4201               Anna Elsie            0           0  15.0\n",
      "4204        Minnie Mollie Lyda           0           0  15.0\n",
      "4205            Margaret Alma            0           0  15.0\n",
      "4206                Ida Addie            0           0  15.0\n",
      "4209           Sarah Lulu Mary           0           0  15.0\n",
      "4218              Grace Olive            0           0  15.0\n",
      "4219       Carrie Amelia Annie           0           0  15.0\n",
      "4022          Bessie Virginia            0           0  15.0\n",
      "4023             Jennie Emily            0           0  15.0\n",
      "4225         Julia Irene Laura           0           0  15.0\n",
      "4227        Edith Esther Grace           0           0  15.0\n",
      "4228            Mattie Willie            0           0  15.0\n",
      "4229           Rose Henrietta            0           0  15.0\n",
      "4234           Virgie Estella            0           0  15.0\n",
      "4036           Lucile Augusta            0           0  15.0\n",
      "4237        Lucille Ora Mattie           0           0  15.0\n",
      "4039   Rosalie Josie Catherine           0           0  15.0\n",
      "4042              Angie Leona            0           0  15.0\n",
      "4243              Dessie Anne            0           0  15.0\n",
      "4245           Lila Ann Lucile           0           0  15.0\n",
      "4254         Gertie Maria Lila           0           0  15.0\n",
      "4057  Mandy Estelle Wilhelmina           0           0  15.0\n",
      "4258      Roberta Nina Bridget           0           0  15.0\n",
      "4259        Cassie Betty Lilla           0           0  15.0\n",
      "4262     Melissa Dorothy Freda           0           0  15.0\n",
      "4072        Mollie Minnie Lyda           0           0  15.0\n",
      "4275            Georgia Alice            0           0  15.0\n",
      "4292         Matilda Gertrude            0           0  15.0\n"
     ]
    }
   ],
   "source": [
    "ingest_ballot()\n",
    "get_current_sich()"
   ]
  },
  {
   "cell_type": "code",
   "execution_count": 10,
   "metadata": {},
   "outputs": [
    {
     "name": "stdout",
     "output_type": "stream",
     "text": [
      "[1500, 1002, 1504, 1505, 1506, 1507, 1508, 1509, 1510, 1511, 1512, 1013, 1014, 1015, 1016, 1017, 1519, 1521, 1522, 1023, 1524, 1525, 1527, 1528, 1529, 1032, 1535, 1536, 1538, 1539, 1540, 1541, 1542, 1543, 1544, 1545, 1547, 1549, 1550, 1051, 1552, 1053, 1055, 1056, 1557, 1559, 1560, 1562, 1563, 1564, 1565, 1566, 1567, 1568, 1569, 1571, 1572, 1574, 1076, 1578, 1579, 1080, 1581, 1582, 1583, 1084, 1089, 1091, 1592, 1096, 1600, 1601]\n"
     ]
    }
   ],
   "source": [
    "combo = {}\n",
    "for key in cr_records:\n",
    "  combo[key] = [cr_codes[key]] + cr_records[key]\n",
    "  df2 = pd.DataFrame.from_dict(combo, orient='index', columns=[\"Name\", \"Places Sum\", \"Ballots In\"])\n",
    "  df2['Rank'] = df2['Places Sum'].rank()\n",
    "df2 = df2[df2['Rank'] < 40.5]\n",
    "cr_quarters = list(df2.index.values)\n",
    "print(cr_quarters)"
   ]
  },
  {
   "cell_type": "code",
   "execution_count": 95,
   "metadata": {},
   "outputs": [],
   "source": [
    "cr_quarters_rooms = ['Math Lab', 'Math', '3rd Grade', '2nd Grade']\n",
    "cr_quarters_round = create_round(cr_quarters, cr_quarters_rooms)\n",
    "write_master(\"cr_mb.docx\", cr_quarters_round, cr_codes, cr_quarters_rooms, \"CR\", 3)\n",
    "create_pairings(cr_quarters_round, cr_codes, cr_quarters_rooms, \"Cold Reading\", 3, '1:45 PM')"
   ]
  },
  {
   "cell_type": "code",
   "execution_count": 181,
   "metadata": {},
   "outputs": [],
   "source": [
    "combo = {}\n",
    "for key in ep_records:\n",
    "  combo[key] = [ep_codes[key]] + ep_records[key]\n",
    "  df = pd.DataFrame.from_dict(combo, orient='index', columns=[\"Name\", \"Places Sum\", \"Ballots In\"])\n",
    "  df['Rank'] = df['Places Sum'].rank()\n",
    "df = df[df['Rank'] < 20.5]\n",
    "ep_semis = list(df.index.values)"
   ]
  },
  {
   "cell_type": "code",
   "execution_count": 188,
   "metadata": {},
   "outputs": [],
   "source": [
    "cr_quarters_records = {code : [0, 0] for code in cr_quarters}"
   ]
  },
  {
   "cell_type": "code",
   "execution_count": 201,
   "metadata": {},
   "outputs": [],
   "source": [
    "codes_raw = input()\n",
    "codes = list(codes_raw.split(\" \"))\n",
    "for i in range(len(codes)): codes[i] = int(codes[i])\n",
    "for i in range(len(codes)):\n",
    "  place = i+1\n",
    "  cr_quarters_records[codes[i]][0] += place\n",
    "  cr_quarters_records[codes[i]][1] += 1"
   ]
  },
  {
   "cell_type": "code",
   "execution_count": 203,
   "metadata": {},
   "outputs": [
    {
     "name": "stdout",
     "output_type": "stream",
     "text": [
      "20\n"
     ]
    }
   ],
   "source": [
    "combo = {}\n",
    "for key in cr_quarters_records:\n",
    "  combo[key] = [cr_codes[key]] + cr_quarters_records[key]\n",
    "  df = pd.DataFrame.from_dict(combo, orient='index', columns=[\"Name\", \"Places Sum\", \"Ballots In\"])\n",
    "  df['Rank'] = df['Places Sum'].rank()\n",
    "df = df[df['Rank'] < 20.5]\n",
    "cr_semis = list(df.index.values)\n",
    "print(len(cr_semis))"
   ]
  },
  {
   "cell_type": "code",
   "execution_count": 204,
   "metadata": {},
   "outputs": [],
   "source": [
    "cr_semis_rooms = ['Art', 'Pri. Sci & Spanish']\n",
    "cr_semis_round = create_round(cr_semis, cr_semis_rooms)\n",
    "write_master(\"cr_mb.docx\", cr_semis_round, cr_codes, cr_semis_rooms, \"CR\", 4)\n",
    "create_pairings(cr_semis_round, cr_codes, cr_semis_rooms, \"Cold Reading\", 4, '3:30 PM')"
   ]
  },
  {
   "cell_type": "code",
   "execution_count": 182,
   "metadata": {},
   "outputs": [
    {
     "name": "stdout",
     "output_type": "stream",
     "text": [
      "27\n"
     ]
    }
   ],
   "source": [
    "combo = {}\n",
    "for key in vf_records:\n",
    "  combo[key] = [vf_codes[key]] + vf_records[key]\n",
    "  df = pd.DataFrame.from_dict(combo, orient='index', columns=[\"Name\", \"Places Sum\", \"Ballots In\"])\n",
    "  df['Rank'] = df['Places Sum'].rank()\n",
    "df = df[df['Rank'] < 29.5]\n",
    "vf_semis = list(df.index.values)\n",
    "print(len(vf_semis))"
   ]
  },
  {
   "cell_type": "code",
   "execution_count": 183,
   "metadata": {},
   "outputs": [
    {
     "name": "stdout",
     "output_type": "stream",
     "text": [
      "15\n"
     ]
    }
   ],
   "source": [
    "combo = {}\n",
    "for key in oo_records:\n",
    "  combo[key] = [oo_codes[key]] + oo_records[key]\n",
    "  df = pd.DataFrame.from_dict(combo, orient='index', columns=[\"Name\", \"Places Sum\", \"Ballots In\"])\n",
    "  df['Rank'] = df['Places Sum'].rank()\n",
    "df = df[df['Rank'] < 16.5]\n",
    "oo_semis = list(df.index.values)\n",
    "print(len(oo_semis))"
   ]
  },
  {
   "cell_type": "code",
   "execution_count": 184,
   "metadata": {},
   "outputs": [],
   "source": [
    "oo_semis_rooms = ['Math Lab', 'Math']\n",
    "oo_semis_round = create_round(oo_semis, oo_semis_rooms)\n",
    "write_master(\"oo_mb.docx\", oo_semis_round, oo_codes, oo_semis_rooms, \"OO\", 3)\n",
    "create_pairings(oo_semis_round, oo_codes, oo_semis_rooms, \"Original Oratory\", 3, '3:00 PM')"
   ]
  },
  {
   "cell_type": "code",
   "execution_count": 187,
   "metadata": {},
   "outputs": [],
   "source": [
    "vf_semis_rooms = ['3rd Grade', '2nd Grade', '5-8 Science']\n",
    "vf_semis_round = create_round(vf_semis, vf_semis_rooms)\n",
    "write_master(\"vf_mb.docx\", vf_semis_round, vf_codes, vf_semis_rooms, \"VF\", 3)\n",
    "create_pairings(vf_semis_round, vf_codes, vf_semis_rooms, \"Volte Face\", 3, '3:00 PM')"
   ]
  },
  {
   "cell_type": "code",
   "execution_count": 186,
   "metadata": {},
   "outputs": [],
   "source": [
    "ep_semis_rooms = [\"5th Grade\", \"Library\"]\n",
    "ep_semis_round = create_round(ep_semis, ep_semis_rooms)\n",
    "write_master(\"ep_mb.docx\", ep_semis_round, ep_codes, ep_semis_rooms, \"EP\", 3)\n",
    "create_pairings(ep_semis_round, ep_codes, ep_semis_rooms, \"Elevator Pitch\", 3, '3:00 PM')"
   ]
  },
  {
   "cell_type": "code",
   "execution_count": null,
   "metadata": {},
   "outputs": [],
   "source": [
    "combo = {}\n",
    "for key in cr_quarters_records:\n",
    "  combo[key] = [cr_codes[key]] + cr_quarters_records[key]\n",
    "  df = pd.DataFrame.from_dict(combo, orient='index', columns=[\"Name\", \"Places Sum\", \"Ballots In\"])\n",
    "  df['Rank'] = df['Places Sum'].rank()\n",
    "\n",
    "df = df[df['Rank'] < 20.5]\n",
    "cr_semis = list(df.index.values)\n",
    "print(len(cr_semis))"
   ]
  },
  {
   "cell_type": "code",
   "execution_count": null,
   "metadata": {},
   "outputs": [],
   "source": [
    "cr_semis_rooms = ['Art', 'Pri. Sci & Spanish']\n",
    "cr_semis_round = create_round(cr_semis, cr_semis_rooms)\n",
    "write_master(\"cr_mb.docx\", cr_semis_round, cr_codes, cr_semis_rooms, \"CR\", 4)\n",
    "create_pairings(cr_semis_round, cr_codes, cr_semis_rooms, \"Cold Reading\", 4, '3:30 PM')"
   ]
  },
  {
   "cell_type": "code",
   "execution_count": 206,
   "metadata": {},
   "outputs": [],
   "source": [
    "cr_semis_records = {code : [0, 0] for code in cr_semis}\n",
    "oo_semis_records = {code : [0, 0] for code in oo_semis}\n",
    "vf_semis_records = {code : [0, 0] for code in vf_semis}\n",
    "ep_semis_records = {code : [0, 0] for code in ep_semis}"
   ]
  },
  {
   "attachments": {},
   "cell_type": "markdown",
   "metadata": {},
   "source": [
    "COLD READING"
   ]
  },
  {
   "cell_type": "code",
   "execution_count": 250,
   "metadata": {},
   "outputs": [],
   "source": [
    "codes_raw = input()\n",
    "codes = list(codes_raw.split(\" \"))\n",
    "for i in range(len(codes)): codes[i] = int(codes[i])\n",
    "for i in range(len(codes)):\n",
    "  place = i+1\n",
    "  cr_semis_records[codes[i]][0] += place\n",
    "  cr_semis_records[codes[i]][1] += 1"
   ]
  },
  {
   "cell_type": "code",
   "execution_count": 12,
   "metadata": {},
   "outputs": [
    {
     "data": {
      "text/plain": [
       "'combo = {}\\nfor key in cr_semis_records:\\n  combo[key] = [cr_codes[key]] + cr_semis_records[key]\\n  df = pd.DataFrame.from_dict(combo, orient=\\'index\\', columns=[\"Name\", \"Places Sum\", \"Ballots In\"])\\n  df[\\'Rank\\'] = df[\\'Places Sum\\'].rank()\\nprint(len(df))\\nprint(df)\\ndf = df[df[\\'Rank\\'] < 10.5]\\ncr_finals = list(df.index.values)\\ncr_finals = cr_finals[:7] + cr_finals[8:]\\nprint(len(cr_finals))'"
      ]
     },
     "execution_count": 12,
     "metadata": {},
     "output_type": "execute_result"
    }
   ],
   "source": [
    "combo = {}\n",
    "for key in cr_semis_records:\n",
    "  combo[key] = [cr_codes[key]] + cr_semis_records[key]\n",
    "  df = pd.DataFrame.from_dict(combo, orient='index', columns=[\"Name\", \"Places Sum\", \"Ballots In\"])\n",
    "  df['Rank'] = df['Places Sum'].rank()\n",
    "print(len(df))\n",
    "print(df)\n",
    "df = df[df['Rank'] < 10.5]\n",
    "cr_finals = list(df.index.values)\n",
    "cr_finals = cr_finals[:7] + cr_finals[8:]\n",
    "print(len(cr_finals))"
   ]
  },
  {
   "cell_type": "code",
   "execution_count": 254,
   "metadata": {},
   "outputs": [],
   "source": [
    "cr_finals_rooms = ['Math Lab']\n",
    "cr_finals_round = create_round(cr_finals, cr_finals_rooms)\n",
    "write_master(\"cr_mb.docx\", cr_finals_round, cr_codes, cr_finals_rooms, \"CR\", 5)\n",
    "create_pairings(cr_finals_round, cr_codes, cr_finals_rooms, \"Cold Reading\", 5, '4:15 PM')"
   ]
  },
  {
   "attachments": {},
   "cell_type": "markdown",
   "metadata": {},
   "source": [
    "VOLTE FACE"
   ]
  },
  {
   "cell_type": "code",
   "execution_count": 236,
   "metadata": {},
   "outputs": [],
   "source": [
    "codes_raw = input()\n",
    "codes = list(codes_raw.split(\" \"))\n",
    "for i in range(len(codes)): codes[i] = int(codes[i])\n",
    "for i in range(len(codes)):\n",
    "  place = i+1\n",
    "  vf_semis_records[codes[i]][0] += place\n",
    "  vf_semis_records[codes[i]][1] += 1"
   ]
  },
  {
   "cell_type": "code",
   "execution_count": 14,
   "metadata": {},
   "outputs": [],
   "source": [
    "print(vf_semis_records)"
   ]
  },
  {
   "cell_type": "code",
   "execution_count": 16,
   "metadata": {},
   "outputs": [
    {
     "data": {
      "text/plain": [
       "'combo = {}\\nfor key in vf_semis_records:\\n  combo[key] = [vf_codes[key]] + vf_semis_records[key]\\n  df = pd.DataFrame.from_dict(combo, orient=\\'index\\', columns=[\"Name\", \"Places Sum\", \"Ballots In\"])\\n  df[\\'Rank\\'] = df[\\'Places Sum\\'].rank()\\nprint(len(df))\\nprint(df)\\ndf = df[df[\\'Rank\\'] < 10.5]\\nvf_finals = list(df.index.values)\\nvf_finals = [vf_finals[0]] + vf_finals[2:]\\nprint(vf_finals)\\nprint(len(vf_finals))'"
      ]
     },
     "execution_count": 16,
     "metadata": {},
     "output_type": "execute_result"
    }
   ],
   "source": [
    "combo = {}\n",
    "for key in vf_semis_records:\n",
    "  combo[key] = [vf_codes[key]] + vf_semis_records[key]\n",
    "  df = pd.DataFrame.from_dict(combo, orient='index', columns=[\"Name\", \"Places Sum\", \"Ballots In\"])\n",
    "  df['Rank'] = df['Places Sum'].rank()\n",
    "print(len(df))\n",
    "print(df)\n",
    "df = df[df['Rank'] < 10.5]\n",
    "vf_finals = list(df.index.values)\n",
    "vf_finals = [vf_finals[0]] + vf_finals[2:]\n",
    "print(vf_finals)\n",
    "print(len(vf_finals))"
   ]
  },
  {
   "cell_type": "code",
   "execution_count": 244,
   "metadata": {},
   "outputs": [],
   "source": [
    "vf_finals_rooms = ['Math']\n",
    "vf_finals_round = create_round(vf_finals, vf_finals_rooms)\n",
    "write_master(\"vf_mb.docx\", vf_finals_round, vf_codes, vf_finals_rooms, \"VF\", 4)\n",
    "create_pairings(vf_finals_round, vf_codes, vf_finals_rooms, \"Volte Face\", 4, '4:15 PM')"
   ]
  },
  {
   "attachments": {},
   "cell_type": "markdown",
   "metadata": {},
   "source": [
    "ELEVATOR PITCH"
   ]
  },
  {
   "cell_type": "code",
   "execution_count": 230,
   "metadata": {},
   "outputs": [],
   "source": [
    "codes_raw = input()\n",
    "codes = list(codes_raw.split(\" \"))\n",
    "for i in range(len(codes)): codes[i] = int(codes[i])\n",
    "for i in range(len(codes)):\n",
    "  place = i+1\n",
    "  ep_semis_records[codes[i]][0] += place\n",
    "  ep_semis_records[codes[i]][1] += 1"
   ]
  },
  {
   "cell_type": "code",
   "execution_count": null,
   "metadata": {},
   "outputs": [],
   "source": [
    "combo = {}\n",
    "for key in ep_semis_records:\n",
    "  combo[key] = [ep_codes[key]] + ep_semis_records[key]\n",
    "  df = pd.DataFrame.from_dict(combo, orient='index', columns=[\"Name\", \"Places Sum\", \"Ballots In\"])\n",
    "  df['Rank'] = df['Places Sum'].rank()\n",
    "print(len(df))\n",
    "print(df)\n",
    "df = df[df['Rank'] < 10.5]\n",
    "ep_finals = list(df.index.values)\n",
    "print(len(ep_finals))"
   ]
  },
  {
   "cell_type": "code",
   "execution_count": 232,
   "metadata": {},
   "outputs": [],
   "source": [
    "ep_finals_rooms = ['7th Grade']\n",
    "ep_finals_round = create_round(ep_finals, ep_finals_rooms)\n",
    "write_master(\"ep_mb.docx\", ep_finals_round, ep_codes, ep_finals_rooms, \"EP\", 4)\n",
    "create_pairings(ep_finals_round, ep_codes, ep_finals_rooms, \"Elevator Pitch\", 4, '4:15 PM')"
   ]
  },
  {
   "attachments": {},
   "cell_type": "markdown",
   "metadata": {},
   "source": [
    "ORIG ORAT"
   ]
  },
  {
   "cell_type": "code",
   "execution_count": 221,
   "metadata": {},
   "outputs": [],
   "source": [
    "codes_raw = input()\n",
    "codes = list(codes_raw.split(\" \"))\n",
    "for i in range(len(codes)): codes[i] = int(codes[i])\n",
    "for i in range(len(codes)):\n",
    "  place = i+1\n",
    "  oo_semis_records[codes[i]][0] += place\n",
    "  oo_semis_records[codes[i]][1] += 1"
   ]
  },
  {
   "cell_type": "code",
   "execution_count": null,
   "metadata": {},
   "outputs": [],
   "source": [
    "combo = {}\n",
    "for key in oo_semis_records:\n",
    "  combo[key] = [oo_codes[key]] + oo_semis_records[key]\n",
    "  df = pd.DataFrame.from_dict(combo, orient='index', columns=[\"Name\", \"Places Sum\", \"Ballots In\"])\n",
    "  df['Rank'] = df['Places Sum'].rank()\n",
    "print(len(df))\n",
    "print(df)\n",
    "df = df[df['Rank'] < 8.5]\n",
    "oo_finals = list(df.index.values)\n",
    "print(len(oo_finals))"
   ]
  },
  {
   "cell_type": "code",
   "execution_count": 225,
   "metadata": {},
   "outputs": [],
   "source": [
    "oo_finals_rooms = ['6th Grade']\n",
    "oo_finals_round = create_round(oo_finals, oo_finals_rooms)\n",
    "write_master(\"oo_mb.docx\", oo_finals_round, oo_codes, oo_finals_rooms, \"OO\", 4)\n",
    "create_pairings(oo_finals_round, oo_codes, oo_finals_rooms, \"Original Oratory\", 4, '4:15 PM')"
   ]
  }
 ],
 "metadata": {
  "kernelspec": {
   "display_name": "Python 3",
   "language": "python",
   "name": "python3"
  },
  "language_info": {
   "codemirror_mode": {
    "name": "ipython",
    "version": 3
   },
   "file_extension": ".py",
   "mimetype": "text/x-python",
   "name": "python",
   "nbconvert_exporter": "python",
   "pygments_lexer": "ipython3",
   "version": "3.10.7"
  },
  "orig_nbformat": 4,
  "vscode": {
   "interpreter": {
    "hash": "aee8b7b246df8f9039afb4144a1f6fd8d2ca17a180786b69acc140d282b71a49"
   }
  }
 },
 "nbformat": 4,
 "nbformat_minor": 2
}
